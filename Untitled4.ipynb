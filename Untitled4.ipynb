{
 "cells": [
  {
   "cell_type": "code",
   "execution_count": 3,
   "id": "80351506",
   "metadata": {},
   "outputs": [],
   "source": [
    "import pyttsx3\n",
    "from time import sleep\n",
    "\n",
    "b = open(\"demo.txt\", \"r\")\n",
    "book = b.readlines()\n",
    "engine = pyttsx3.init()\n",
    "\n",
    "for i in book:\n",
    "    engine.say(i)\n",
    "    engine.runAndWait()\n",
    "    sleep(2)\n",
    "\n",
    "b.close()  # This should be outside the loop\n"
   ]
  },
  {
   "cell_type": "code",
   "execution_count": null,
   "id": "b434fb09",
   "metadata": {},
   "outputs": [],
   "source": []
  }
 ],
 "metadata": {
  "kernelspec": {
   "display_name": "Python 3 (ipykernel)",
   "language": "python",
   "name": "python3"
  },
  "language_info": {
   "codemirror_mode": {
    "name": "ipython",
    "version": 3
   },
   "file_extension": ".py",
   "mimetype": "text/x-python",
   "name": "python",
   "nbconvert_exporter": "python",
   "pygments_lexer": "ipython3",
   "version": "3.11.5"
  }
 },
 "nbformat": 4,
 "nbformat_minor": 5
}
